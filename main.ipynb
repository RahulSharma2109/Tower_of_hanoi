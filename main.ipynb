{
 "cells": [
  {
   "cell_type": "code",
   "execution_count": 11,
   "id": "c6bf6b2e-30f3-4700-8f75-8cb0fee504f3",
   "metadata": {},
   "outputs": [
    {
     "name": "stdin",
     "output_type": "stream",
     "text": [
      "Enter the number of disks:  5\n",
      "Enter the name of the source peg:  A\n",
      "Enter the name of the target peg:  B\n",
      "Enter the name of the auxiliary peg:  C\n"
     ]
    },
    {
     "name": "stdout",
     "output_type": "stream",
     "text": [
      "\n",
      "Solving Tower of Hanoi for 5 disks:\n",
      "\n",
      "Move disk 1 from A to B\n",
      "Move disk 2 from A to C\n",
      "Move disk 1 from B to C\n",
      "Move disk 3 from A to B\n",
      "Move disk 1 from C to A\n",
      "Move disk 2 from C to B\n",
      "Move disk 1 from A to B\n",
      "Move disk 4 from A to C\n",
      "Move disk 1 from B to C\n",
      "Move disk 2 from B to A\n",
      "Move disk 1 from C to A\n",
      "Move disk 3 from B to C\n",
      "Move disk 1 from A to B\n",
      "Move disk 2 from A to C\n",
      "Move disk 1 from B to C\n",
      "Move disk 5 from A to B\n",
      "Move disk 1 from C to A\n",
      "Move disk 2 from C to B\n",
      "Move disk 1 from A to B\n",
      "Move disk 3 from C to A\n",
      "Move disk 1 from B to C\n",
      "Move disk 2 from B to A\n",
      "Move disk 1 from C to A\n",
      "Move disk 4 from C to B\n",
      "Move disk 1 from A to B\n",
      "Move disk 2 from A to C\n",
      "Move disk 1 from B to C\n",
      "Move disk 3 from A to B\n",
      "Move disk 1 from C to A\n",
      "Move disk 2 from C to B\n",
      "Move disk 1 from A to B\n",
      "\n",
      "Total number of moves: 31\n"
     ]
    }
   ],
   "source": [
    "def tower_of_hanoi(n, source, target, auxiliary):\n",
    "    \"\"\"\n",
    "    Recursive function to solve Tower of Hanoi.\n",
    "\n",
    "    Parameters:\n",
    "    n (int): Number of disks.\n",
    "    source (str): The source peg.\n",
    "    target (str): The target peg.\n",
    "    auxiliary (str): The auxiliary peg.\n",
    "    \"\"\"\n",
    "    if n == 1:\n",
    "        print(f\"Move disk 1 from {source} to {target}\")\n",
    "        return 1  # One move for this operation\n",
    "    # Moves for n-1 disks to auxiliary, 1 move to target, and n-1 disks to target\n",
    "    moves = tower_of_hanoi(n - 1, source, auxiliary, target)\n",
    "    print(f\"Move disk {n} from {source} to {target}\")\n",
    "    moves += 1  # One move for this operation\n",
    "    moves += tower_of_hanoi(n - 1, auxiliary, target, source)\n",
    "    return moves  # Return total moves\n",
    "\n",
    "# Input from user\n",
    "try:\n",
    "    num_disks = int(input(\"Enter the number of disks: \"))\n",
    "    source_peg = input(\"Enter the name of the source peg: \")\n",
    "    target_peg = input(\"Enter the name of the target peg: \")\n",
    "    auxiliary_peg = input(\"Enter the name of the auxiliary peg: \")\n",
    "\n",
    "    print(f\"\\nSolving Tower of Hanoi for {num_disks} disks:\\n\")\n",
    "    total_moves = tower_of_hanoi(num_disks, source_peg, target_peg, auxiliary_peg)\n",
    "    print(f\"\\nTotal number of moves: {total_moves}\")\n",
    "except ValueError:\n",
    "    print(\"Invalid input! Please enter a valid integer for the number of disks.\")\n"
   ]
  },
  {
   "cell_type": "code",
   "execution_count": null,
   "id": "f0346b19-e394-4818-9f55-c3770d92d07e",
   "metadata": {},
   "outputs": [],
   "source": []
  }
 ],
 "metadata": {
  "kernelspec": {
   "display_name": "Python 3 (ipykernel)",
   "language": "python",
   "name": "python3"
  },
  "language_info": {
   "codemirror_mode": {
    "name": "ipython",
    "version": 3
   },
   "file_extension": ".py",
   "mimetype": "text/x-python",
   "name": "python",
   "nbconvert_exporter": "python",
   "pygments_lexer": "ipython3",
   "version": "3.12.4"
  }
 },
 "nbformat": 4,
 "nbformat_minor": 5
}
